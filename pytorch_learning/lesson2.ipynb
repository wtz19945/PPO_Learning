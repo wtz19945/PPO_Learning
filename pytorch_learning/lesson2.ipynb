{
 "cells": [
  {
   "cell_type": "code",
   "execution_count": 1,
   "metadata": {},
   "outputs": [],
   "source": [
    "import torch\n",
    "import math"
   ]
  },
  {
   "cell_type": "code",
   "execution_count": 5,
   "metadata": {},
   "outputs": [
    {
     "name": "stdout",
     "output_type": "stream",
     "text": [
      "<class 'torch.Tensor'>\n",
      "tensor([[0., 0., 0., 0.],\n",
      "        [0., 0., 0., 0.],\n",
      "        [0., 0., 0., 0.]])\n",
      "tensor([[0., 0., 0.],\n",
      "        [0., 0., 0.]])\n",
      "tensor([[1., 1., 1.],\n",
      "        [1., 1., 1.]])\n",
      "tensor([[0.3126, 0.3791, 0.3087],\n",
      "        [0.0736, 0.4216, 0.0691]])\n"
     ]
    }
   ],
   "source": [
    "x = torch.zeros(3, 4)\n",
    "print(type(x))\n",
    "print(x)\n",
    "\n",
    "zeros = torch.zeros(2, 3)\n",
    "print(zeros)\n",
    "\n",
    "ones = torch.ones(2, 3)\n",
    "print(ones)\n",
    "\n",
    "torch.manual_seed(1729)\n",
    "random = torch.rand(2, 3)\n",
    "print(random)"
   ]
  },
  {
   "cell_type": "code",
   "execution_count": 6,
   "metadata": {},
   "outputs": [
    {
     "name": "stdout",
     "output_type": "stream",
     "text": [
      "torch.Size([2, 2, 3])\n",
      "tensor([[[1.8177e+31, 3.8946e+21, 4.4650e+30],\n",
      "         [7.0975e+22, 7.2296e+31, 5.6015e-02]],\n",
      "\n",
      "        [[7.0374e+22, 2.3534e+20, 1.1210e-43],\n",
      "         [0.0000e+00, 6.7262e-44, 0.0000e+00]]])\n",
      "torch.Size([2, 2, 3])\n",
      "tensor([[[-6.1238e+21,  4.5908e-41, -6.1238e+21],\n",
      "         [ 4.5908e-41,  7.2296e+31,  5.6015e-02]],\n",
      "\n",
      "        [[ 7.0374e+22,  2.3534e+20,  1.1210e-43],\n",
      "         [ 0.0000e+00,  6.7262e-44,  0.0000e+00]]])\n",
      "torch.Size([2, 2, 3])\n",
      "tensor([[[0., 0., 0.],\n",
      "         [0., 0., 0.]],\n",
      "\n",
      "        [[0., 0., 0.],\n",
      "         [0., 0., 0.]]])\n",
      "torch.Size([2, 2, 3])\n",
      "tensor([[[1., 1., 1.],\n",
      "         [1., 1., 1.]],\n",
      "\n",
      "        [[1., 1., 1.],\n",
      "         [1., 1., 1.]]])\n",
      "torch.Size([2, 2, 3])\n",
      "tensor([[[0.2332, 0.4047, 0.2162],\n",
      "         [0.9927, 0.4128, 0.5938]],\n",
      "\n",
      "        [[0.6128, 0.1519, 0.0453],\n",
      "         [0.5035, 0.9978, 0.3884]]])\n"
     ]
    }
   ],
   "source": [
    "x = torch.empty(2, 2, 3)\n",
    "print(x.shape)\n",
    "print(x)\n",
    "\n",
    "empty_like_x = torch.empty_like(x)\n",
    "print(empty_like_x.shape)\n",
    "print(empty_like_x)\n",
    "\n",
    "zeros_like_x = torch.zeros_like(x)\n",
    "print(zeros_like_x.shape)\n",
    "print(zeros_like_x)\n",
    "\n",
    "ones_like_x = torch.ones_like(x)\n",
    "print(ones_like_x.shape)\n",
    "print(ones_like_x)\n",
    "\n",
    "rand_like_x = torch.rand_like(x)\n",
    "print(rand_like_x.shape)\n",
    "print(rand_like_x)\n"
   ]
  },
  {
   "cell_type": "code",
   "execution_count": 7,
   "metadata": {},
   "outputs": [
    {
     "name": "stdout",
     "output_type": "stream",
     "text": [
      "tensor([[3.1416, 2.7183],\n",
      "        [1.6180, 0.0073]])\n",
      "torch.Size([2, 2])\n",
      "tensor([ 2,  3,  5,  7, 11, 13, 17, 19])\n",
      "tensor([[2, 4, 6],\n",
      "        [3, 6, 9]])\n",
      "torch.Size([2, 3])\n"
     ]
    }
   ],
   "source": [
    "some_constants = torch.tensor([[3.1415926, 2.71828], [1.61803, 0.0072897]])\n",
    "print(some_constants)\n",
    "print(some_constants.shape)\n",
    "\n",
    "some_integers = torch.tensor((2, 3, 5, 7, 11, 13, 17, 19))\n",
    "print(some_integers)\n",
    "\n",
    "more_integers = torch.tensor(((2, 4, 6), [3, 6, 9]))\n",
    "print(more_integers)\n",
    "print(more_integers.shape)\n"
   ]
  },
  {
   "cell_type": "code",
   "execution_count": 12,
   "metadata": {},
   "outputs": [
    {
     "name": "stdout",
     "output_type": "stream",
     "text": [
      "tensor([[1., 1.],\n",
      "        [1., 1.]])\n",
      "tensor([[2., 2.],\n",
      "        [2., 2.]])\n",
      "tensor([[3., 3.],\n",
      "        [3., 3.]])\n",
      "tensor([[4., 4.],\n",
      "        [4., 4.]])\n",
      "tensor([[1.4142, 1.4142],\n",
      "        [1.4142, 1.4142]])\n",
      "tensor([[4., 4.],\n",
      "        [4., 4.]])\n",
      "tensor([[2., 2.],\n",
      "        [2., 2.]])\n"
     ]
    }
   ],
   "source": [
    "# Math & Logic with Tensor\n",
    "ones = torch.zeros(2, 2) + 1\n",
    "twos = torch.ones(2, 2) * 2\n",
    "threes = (torch.ones(2, 2) * 7 - 1) / 2\n",
    "fours = twos ** 2\n",
    "sqrt2s = twos ** 0.5\n",
    "\n",
    "print(ones)\n",
    "print(twos)\n",
    "print(threes)\n",
    "print(fours)\n",
    "print(sqrt2s)\n",
    "print(ones @ twos)\n",
    "print(ones * twos)"
   ]
  },
  {
   "cell_type": "code",
   "execution_count": 22,
   "metadata": {},
   "outputs": [
    {
     "name": "stdout",
     "output_type": "stream",
     "text": [
      "tensor([[2, 4, 6, 8]])\n",
      "tensor([[0.2330, 0.8441, 0.9004, 0.3995],\n",
      "        [0.6324, 0.9464, 0.0113, 0.5183]])\n",
      "tensor([[0.4660, 3.3763, 5.4023, 3.1959],\n",
      "        [1.2648, 3.7856, 0.0680, 4.1460]])\n"
     ]
    }
   ],
   "source": [
    "# Broadcasting. \n",
    "print(torch.tensor([[1],[2],[3],[4]]).transpose(0, 1) * 2)\n",
    "rand = torch.rand(2, 4)\n",
    "doubled = rand * (torch.tensor([[1],[2],[3],[4]]).transpose(0, 1) * 2)\n",
    "\n",
    "print(rand)\n",
    "print(doubled)"
   ]
  },
  {
   "cell_type": "code",
   "execution_count": 23,
   "metadata": {},
   "outputs": [
    {
     "name": "stdout",
     "output_type": "stream",
     "text": [
      "tensor([[[0.9807, 0.6545],\n",
      "         [0.4144, 0.0696],\n",
      "         [0.4648, 0.4491]],\n",
      "\n",
      "        [[0.9807, 0.6545],\n",
      "         [0.4144, 0.0696],\n",
      "         [0.4648, 0.4491]],\n",
      "\n",
      "        [[0.9807, 0.6545],\n",
      "         [0.4144, 0.0696],\n",
      "         [0.4648, 0.4491]],\n",
      "\n",
      "        [[0.9807, 0.6545],\n",
      "         [0.4144, 0.0696],\n",
      "         [0.4648, 0.4491]]])\n",
      "tensor([[[0.6265, 0.6265],\n",
      "         [0.9411, 0.9411],\n",
      "         [0.4922, 0.4922]],\n",
      "\n",
      "        [[0.6265, 0.6265],\n",
      "         [0.9411, 0.9411],\n",
      "         [0.4922, 0.4922]],\n",
      "\n",
      "        [[0.6265, 0.6265],\n",
      "         [0.9411, 0.9411],\n",
      "         [0.4922, 0.4922]],\n",
      "\n",
      "        [[0.6265, 0.6265],\n",
      "         [0.9411, 0.9411],\n",
      "         [0.4922, 0.4922]]])\n",
      "tensor([[[0.5461, 0.5396],\n",
      "         [0.5461, 0.5396],\n",
      "         [0.5461, 0.5396]],\n",
      "\n",
      "        [[0.5461, 0.5396],\n",
      "         [0.5461, 0.5396],\n",
      "         [0.5461, 0.5396]],\n",
      "\n",
      "        [[0.5461, 0.5396],\n",
      "         [0.5461, 0.5396],\n",
      "         [0.5461, 0.5396]],\n",
      "\n",
      "        [[0.5461, 0.5396],\n",
      "         [0.5461, 0.5396],\n",
      "         [0.5461, 0.5396]]])\n"
     ]
    }
   ],
   "source": [
    "# tensor can detect similar shapes and apply multiplication accordingly\n",
    "a =     torch.ones(4, 3, 2)\n",
    "\n",
    "b = a * torch.rand(   3, 2) # 3rd & 2nd dims identical to a, dim 1 absent\n",
    "print(b)\n",
    "\n",
    "c = a * torch.rand(   3, 1) # 3rd dim = 1, 2nd dim identical to a\n",
    "print(c)\n",
    "\n",
    "d = a * torch.rand(   1, 2) # 3rd dim identical to a, 2nd dim = 1\n",
    "print(d)"
   ]
  },
  {
   "cell_type": "code",
   "execution_count": 28,
   "metadata": {},
   "outputs": [
    {
     "name": "stdout",
     "output_type": "stream",
     "text": [
      "\n",
      "Broadcasted, element-wise equality comparison:\n",
      "tensor([[ True, False],\n",
      "        [False, False]])\n",
      "\n",
      "Reduction ops:\n",
      "tensor(4.)\n",
      "4.0\n",
      "2.5\n",
      "tensor(1.2910)\n",
      "tensor(24.)\n",
      "tensor([1, 2, 3])\n",
      "\n",
      "Vectors & Matrices:\n",
      "tensor([ 0.,  0., -1.])\n",
      "tensor([[0.3208, 0.4323],\n",
      "        [0.1811, 0.6962]])\n",
      "tensor([[0.9623, 1.2969],\n",
      "        [0.5434, 2.0885]])\n",
      "torch.return_types.svd(\n",
      "U=tensor([[ 0.5907,  0.8069],\n",
      "        [ 0.8069, -0.5907]]),\n",
      "S=tensor([2.6500, 0.4924]),\n",
      "V=tensor([[ 0.3799,  0.9250],\n",
      "        [ 0.9250, -0.3799]]))\n"
     ]
    }
   ],
   "source": [
    "# comparisons:\n",
    "print('\\nBroadcasted, element-wise equality comparison:')\n",
    "d = torch.tensor([[1., 2.], [3., 4.]])\n",
    "e = torch.ones(1, 2)  # many comparison ops support broadcasting!\n",
    "print(torch.eq(d, e)) # returns a tensor of type bool\n",
    "\n",
    "# reductions:\n",
    "print('\\nReduction ops:')\n",
    "print(torch.max(d))        # returns a single-element tensor\n",
    "print(torch.max(d).item()) # extracts the value from the returned tensor\n",
    "print(torch.mean(d).item())       # average\n",
    "print(torch.std(d))        # standard deviation\n",
    "print(torch.prod(d))       # product of all numbers\n",
    "print(torch.unique(torch.tensor([1, 2, 1, 3, 1, 2]))) # filter unique elements\n",
    "\n",
    "# vector and linear algebra operations\n",
    "v1 = torch.tensor([1., 0., 0.])         # x unit vector\n",
    "v2 = torch.tensor([0., 1., 0.])         # y unit vector\n",
    "m1 = torch.rand(2, 2)                   # random matrix\n",
    "m2 = torch.tensor([[3., 0.], [0., 3.]]) # three times identity matrix\n",
    "\n",
    "print('\\nVectors & Matrices:')\n",
    "print(torch.cross(v2, v1)) # negative of z unit vector (v1 x v2 == -v2 x v1)\n",
    "print(m1)\n",
    "m3 = torch.matmul(m1, m2)\n",
    "print(m3)                  # 3 times m1\n",
    "print(torch.svd(m3))       # singular value decomposition"
   ]
  },
  {
   "cell_type": "code",
   "execution_count": 29,
   "metadata": {},
   "outputs": [
    {
     "name": "stdout",
     "output_type": "stream",
     "text": [
      "tensor([[0., 0.],\n",
      "        [0., 0.]])\n",
      "tensor([[0.5675, 0.8195],\n",
      "        [0.3348, 0.5565]])\n",
      "tensor([[0.2126, 0.4408],\n",
      "        [0.3877, 0.6078]])\n"
     ]
    }
   ],
   "source": [
    "a = torch.rand(2, 2)\n",
    "b = torch.rand(2, 2)\n",
    "c = torch.zeros(2, 2)\n",
    "old_id = id(c)\n",
    "\n",
    "print(c)\n",
    "d = torch.matmul(a, b, out=c)\n",
    "print(c)                # contents of c have changed\n",
    "\n",
    "assert c is d           # test c & d are same object, not just containing equal values\n",
    "assert id(c) == old_id  # make sure that our new c is the same object as the old one\n",
    "\n",
    "torch.rand(2, 2, out=c) # works for creation too!\n",
    "print(c)                # c has changed again\n",
    "assert id(c) == old_id  # still the same object!"
   ]
  },
  {
   "cell_type": "code",
   "execution_count": 31,
   "metadata": {},
   "outputs": [
    {
     "name": "stdout",
     "output_type": "stream",
     "text": [
      "tensor([[True, True],\n",
      "        [True, True]])\n",
      "tensor([[1., 1.],\n",
      "        [1., 1.]])\n"
     ]
    }
   ],
   "source": [
    "# use clone to get a separate copy of the tensor\n",
    "a = torch.ones(2, 2)\n",
    "b = a.clone()\n",
    "\n",
    "assert b is not a      # different objects in memory...\n",
    "print(torch.eq(a, b))  # ...but still with the same contents!\n",
    "\n",
    "a[0][1] = 561          # a changes...\n",
    "print(b)               # ...but b is still all ones"
   ]
  },
  {
   "cell_type": "code",
   "execution_count": null,
   "metadata": {},
   "outputs": [],
   "source": [
    "# clone also copies gradient info. Use detach to turn off autograd\n",
    "a = torch.rand(2, 2, requires_grad=True) # turn on autograd\n",
    "print(a)\n",
    "\n",
    "b = a.clone()\n",
    "print(b)\n",
    "\n",
    "c = a.detach().clone()\n",
    "print(c)\n",
    "\n",
    "print(a)"
   ]
  },
  {
   "cell_type": "code",
   "execution_count": 37,
   "metadata": {},
   "outputs": [
    {
     "name": "stdout",
     "output_type": "stream",
     "text": [
      "We have a GPU!\n",
      "Device: cuda\n",
      "tensor([[0.1132, 0.8100],\n",
      "        [0.9928, 0.8932]], device='cuda:0')\n",
      "tensor([[0.1132, 0.8100],\n",
      "        [0.9928, 0.8932]])\n"
     ]
    }
   ],
   "source": [
    "if torch.cuda.is_available():\n",
    "    print('We have a GPU!')\n",
    "else:\n",
    "    print('Sorry, CPU only.')\n",
    "\n",
    "# create data on gpu\n",
    "if torch.cuda.is_available():\n",
    "    my_device = torch.device('cuda')\n",
    "else:\n",
    "    my_device = torch.device('cpu')\n",
    "print('Device: {}'.format(my_device))\n",
    "\n",
    "x = torch.rand(2, 2, device=my_device)\n",
    "print(x)\n",
    "\n",
    "x = x.to('cpu')\n",
    "print(x)\n",
    "\n"
   ]
  },
  {
   "cell_type": "code",
   "execution_count": 54,
   "metadata": {},
   "outputs": [
    {
     "name": "stdout",
     "output_type": "stream",
     "text": [
      "torch.Size([3, 226, 226])\n",
      "torch.Size([3, 226, 226, 1])\n",
      "torch.Size([1, 3, 226, 226])\n",
      "torch.Size([3, 1, 226, 226])\n",
      "torch.Size([1, 20])\n",
      "tensor([0.4469, 0.7223, 0.3155, 0.2655, 0.8996, 0.7969, 0.7561, 0.2476, 0.9060,\n",
      "        0.4793])\n",
      "torch.Size([20])\n",
      "tensor([0.2657, 0.0187, 0.4910, 0.2463, 0.7342, 0.3619, 0.6786, 0.9894, 0.0748,\n",
      "        0.5009, 0.4469, 0.7223, 0.3155, 0.2655, 0.8996, 0.7969, 0.7561, 0.2476,\n",
      "        0.9060, 0.4793])\n",
      "torch.Size([2, 2])\n",
      "torch.Size([2, 2])\n"
     ]
    }
   ],
   "source": [
    "# Manipulate tensor shape\n",
    "# Note squeeze and unsqueeze can only act on dimension of extent 1\n",
    "a = torch.rand(3, 226, 226)\n",
    "# unsqueeze add another dimension to the input\n",
    "b = a.unsqueeze(3) # add another dimension in the end\n",
    "c = a.unsqueeze(0) # add another dimension in the beginning\n",
    "d = a.unsqueeze(1) # add another dimension in the middle\n",
    "print(a.shape)\n",
    "print(b.shape)\n",
    "print(c.shape)\n",
    "print(d.shape)\n",
    "\n",
    "# squeeze\n",
    "a = torch.rand(1, 20)\n",
    "print(a.shape)\n",
    "print(a[0][10:])\n",
    "\n",
    "b = a.squeeze(0)\n",
    "print(b.shape)\n",
    "print(b)\n",
    "\n",
    "c = torch.rand(2, 2)\n",
    "print(c.shape)\n",
    "\n",
    "d = c.squeeze(0)\n",
    "print(d.shape)"
   ]
  },
  {
   "cell_type": "code",
   "execution_count": 56,
   "metadata": {},
   "outputs": [
    {
     "name": "stdout",
     "output_type": "stream",
     "text": [
      "tensor([[[0.7415, 0.7415],\n",
      "         [0.2863, 0.2863],\n",
      "         [0.6553, 0.6553]],\n",
      "\n",
      "        [[0.7415, 0.7415],\n",
      "         [0.2863, 0.2863],\n",
      "         [0.6553, 0.6553]],\n",
      "\n",
      "        [[0.7415, 0.7415],\n",
      "         [0.2863, 0.2863],\n",
      "         [0.6553, 0.6553]],\n",
      "\n",
      "        [[0.7415, 0.7415],\n",
      "         [0.2863, 0.2863],\n",
      "         [0.6553, 0.6553]]])\n",
      "torch.Size([3, 1])\n",
      "tensor([[[0.8176, 0.8176],\n",
      "         [0.2376, 0.2376],\n",
      "         [0.0161, 0.0161]],\n",
      "\n",
      "        [[0.8176, 0.8176],\n",
      "         [0.2376, 0.2376],\n",
      "         [0.0161, 0.0161]],\n",
      "\n",
      "        [[0.8176, 0.8176],\n",
      "         [0.2376, 0.2376],\n",
      "         [0.0161, 0.0161]],\n",
      "\n",
      "        [[0.8176, 0.8176],\n",
      "         [0.2376, 0.2376],\n",
      "         [0.0161, 0.0161]]])\n"
     ]
    }
   ],
   "source": [
    "a = torch.ones(4, 3, 2)\n",
    "\n",
    "c = a * torch.rand(   3, 1) # 3rd dim = 1, 2nd dim identical to a\n",
    "print(c)\n",
    "\n",
    "# allow broadcasting by adding another dimension by using unsqueezing\n",
    "a = torch.ones(4, 3, 2)\n",
    "b = torch.rand(   3)     # trying to multiply a * b will give a runtime error\n",
    "c = b.unsqueeze(1)       # change to a 2-dimensional tensor, adding new dim at the end\n",
    "print(c.shape)\n",
    "print(a * c)             # broadcasting works again!\n",
    "\n",
    "# reshape\n",
    "output3d = torch.rand(6, 20, 20)\n",
    "print(output3d.shape)\n",
    "\n",
    "input1d = output3d.reshape(6 * 20 * 20)\n",
    "print(input1d.shape)\n",
    "\n"
   ]
  }
 ],
 "metadata": {
  "kernelspec": {
   "display_name": "ppoexample",
   "language": "python",
   "name": "python3"
  },
  "language_info": {
   "codemirror_mode": {
    "name": "ipython",
    "version": 3
   },
   "file_extension": ".py",
   "mimetype": "text/x-python",
   "name": "python",
   "nbconvert_exporter": "python",
   "pygments_lexer": "ipython3",
   "version": "3.7.12"
  }
 },
 "nbformat": 4,
 "nbformat_minor": 2
}
